{
 "cells": [
  {
   "cell_type": "code",
   "execution_count": 1,
   "metadata": {},
   "outputs": [
    {
     "name": "stdout",
     "output_type": "stream",
     "text": [
      "\u001b[34mGeSe2\u001b[m\u001b[m      \u001b[34mSiC\u001b[m\u001b[m        conv.ipynb\n"
     ]
    }
   ],
   "source": [
    "!ls"
   ]
  },
  {
   "cell_type": "code",
   "execution_count": 5,
   "metadata": {},
   "outputs": [
    {
     "name": "stdout",
     "output_type": "stream",
     "text": [
      "(930,) (930,)\n",
      "0 310\n",
      "0 0 310 GeSe2/C/feature_mean_310.x\n",
      "310 620\n",
      "1 310 620 GeSe2/C/feature_mean_310.y\n",
      "620 930\n",
      "2 620 930 GeSe2/C/feature_mean_310.z\n",
      "0 310\n",
      "0 0 310 GeSe2/C/feature_stddev_310.x\n",
      "310 620\n",
      "1 310 620 GeSe2/C/feature_stddev_310.y\n",
      "620 930\n",
      "2 620 930 GeSe2/C/feature_stddev_310.z\n",
      "(930,) (930,)\n",
      "0 310\n",
      "0 0 310 GeSe2/Si/feature_mean_310.x\n",
      "310 620\n",
      "1 310 620 GeSe2/Si/feature_mean_310.y\n",
      "620 930\n",
      "2 620 930 GeSe2/Si/feature_mean_310.z\n",
      "0 310\n",
      "0 0 310 GeSe2/Si/feature_stddev_310.x\n",
      "310 620\n",
      "1 310 620 GeSe2/Si/feature_stddev_310.y\n",
      "620 930\n",
      "2 620 930 GeSe2/Si/feature_stddev_310.z\n"
     ]
    }
   ],
   "source": [
    "import numpy as np\n",
    "suffix = ['x','y','z']\n",
    "elements = ['C','Si']\n",
    "root_dir = 'GeSe2/'\n",
    "for elem in elements: \n",
    "    m=np.load(root_dir+'feature_mean_'+elem+'.npy')\n",
    "    s=np.load(root_dir+'feature_std_'+elem+'.npy')\n",
    "    print(m.shape, s.shape)\n",
    "    m_size = m.shape[0]\n",
    "    s_size = s.shape[0]\n",
    "    assert(m_size == s_size)\n",
    "    m_size_single = int(m_size/3)\n",
    "    s_size_single = int(s_size/3)\n",
    "    assert(m_size_single == s_size_single)\n",
    "    \n",
    "    for i in range(3):\n",
    "        start = m_size_single*i\n",
    "        end = m_size_single*(i+1)\n",
    "        print(start,end)\n",
    "        data = m[start:end]\n",
    "        filename = root_dir+elem+'/feature_mean_'+str(m_size_single)+'.'+suffix[i]\n",
    "        print(i, start, end, filename)\n",
    "        data.tofile(filename)\n",
    "\n",
    "    for i in range(3):\n",
    "        start = s_size_single*i\n",
    "        end = s_size_single*(i+1)\n",
    "        print(start,end)\n",
    "        data = s[start:end]\n",
    "        filename = root_dir+elem+'/feature_stddev_'+str(s_size_single)+'.'+suffix[i]\n",
    "        print(i, start, end, filename)\n",
    "        data.tofile(filename)\n",
    "\n"
   ]
  },
  {
   "cell_type": "code",
   "execution_count": null,
   "metadata": {
    "collapsed": true
   },
   "outputs": [],
   "source": []
  },
  {
   "cell_type": "code",
   "execution_count": null,
   "metadata": {},
   "outputs": [],
   "source": []
  }
 ],
 "metadata": {
  "kernelspec": {
   "display_name": "Python 3",
   "language": "python",
   "name": "python3"
  },
  "language_info": {
   "codemirror_mode": {
    "name": "ipython",
    "version": 3
   },
   "file_extension": ".py",
   "mimetype": "text/x-python",
   "name": "python",
   "nbconvert_exporter": "python",
   "pygments_lexer": "ipython3",
   "version": "3.6.8"
  }
 },
 "nbformat": 4,
 "nbformat_minor": 2
}
