{
 "cells": [
  {
   "cell_type": "code",
   "execution_count": 2,
   "metadata": {},
   "outputs": [
    {
     "name": "stdout",
     "output_type": "stream",
     "text": [
      "\u001b[34mC\u001b[m\u001b[m                   feature_mean_C.npy  feature_std_Si.npy  force_std_C.npy\r\n",
      "\u001b[34mSi\u001b[m\u001b[m                  feature_mean_Si.npy force_mean_C.npy    force_std_Si.npy\r\n",
      "Untitled.ipynb      feature_std_C.npy   force_mean_Si.npy\r\n"
     ]
    }
   ],
   "source": [
    "!ls"
   ]
  },
  {
   "cell_type": "code",
   "execution_count": 16,
   "metadata": {},
   "outputs": [
    {
     "name": "stdout",
     "output_type": "stream",
     "text": [
      "(696,) (696,)\n",
      "<class 'numpy.ndarray'>\n",
      "0 232\n",
      "0 0 232 C/feature_mean_232.x\n",
      "232 464\n",
      "1 232 464 C/feature_mean_232.y\n",
      "464 696\n",
      "2 464 696 C/feature_mean_232.z\n"
     ]
    }
   ],
   "source": [
    "import numpy as np\n",
    "suffix = ['x','y','z']\n",
    "elements = ['C','Si']\n",
    "\n",
    "\n",
    "\n",
    "for elem in elements: \n",
    "    m=np.load('feature_mean_'+elem+'.npy')\n",
    "    s=np.load('feature_std_'+elem+'.npy')\n",
    "    print(m.shape, s.shape)\n",
    "    m_size = m.shape[0]\n",
    "    s_size = s.shape[0]\n",
    "    assert(m_size == s_size)\n",
    "    m_size_single = int(m_size/3)\n",
    "    s_size_single = int(s_size/3)\n",
    "    assert(m_size_single == s_size_single)\n",
    "    \n",
    "    for i in range(3):\n",
    "        start = m_size_single*i\n",
    "        end = m_size_single*(i+1)\n",
    "        print(start,end)\n",
    "        data = m[start:end]\n",
    "        filename = elem+'/feature_mean_'+str(m_size_single)+'.'+suffix[i]\n",
    "        print(i, start, end, filename)\n",
    "        data.tofile(filename)\n",
    "\n"
   ]
  },
  {
   "cell_type": "code",
   "execution_count": null,
   "metadata": {
    "collapsed": true
   },
   "outputs": [],
   "source": []
  },
  {
   "cell_type": "code",
   "execution_count": null,
   "metadata": {},
   "outputs": [],
   "source": []
  }
 ],
 "metadata": {
  "kernelspec": {
   "display_name": "Python 3",
   "language": "python",
   "name": "python3"
  },
  "language_info": {
   "codemirror_mode": {
    "name": "ipython",
    "version": 3
   },
   "file_extension": ".py",
   "mimetype": "text/x-python",
   "name": "python",
   "nbconvert_exporter": "python",
   "pygments_lexer": "ipython3",
   "version": "3.6.8"
  }
 },
 "nbformat": 4,
 "nbformat_minor": 2
}
