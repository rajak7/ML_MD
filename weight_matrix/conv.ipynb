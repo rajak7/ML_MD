{
 "cells": [
  {
   "cell_type": "code",
   "execution_count": 25,
   "metadata": {},
   "outputs": [
    {
     "name": "stdout",
     "output_type": "stream",
     "text": [
      "GeSe2/C_x_fc1_fc_b:0.npy 512 GeSe2/C/b_1_512.x\n",
      "GeSe2/C_x_fc2_fc_b:0.npy 1024 GeSe2/C/b_2_1024.x\n",
      "GeSe2/C_x_fc3_fc_b:0.npy 512 GeSe2/C/b_3_512.x\n",
      "GeSe2/C_x_fc4_fc_b:0.npy 1 GeSe2/C/b_4_1.x\n",
      "GeSe2/C_y_fc1_fc_b:0.npy 512 GeSe2/C/b_1_512.y\n",
      "GeSe2/C_y_fc2_fc_b:0.npy 1024 GeSe2/C/b_2_1024.y\n",
      "GeSe2/C_y_fc3_fc_b:0.npy 512 GeSe2/C/b_3_512.y\n",
      "GeSe2/C_y_fc4_fc_b:0.npy 1 GeSe2/C/b_4_1.y\n",
      "GeSe2/C_z_fc1_fc_b:0.npy 512 GeSe2/C/b_1_512.z\n",
      "GeSe2/C_z_fc2_fc_b:0.npy 1024 GeSe2/C/b_2_1024.z\n",
      "GeSe2/C_z_fc3_fc_b:0.npy 512 GeSe2/C/b_3_512.z\n",
      "GeSe2/C_z_fc4_fc_b:0.npy 1 GeSe2/C/b_4_1.z\n",
      "------\n",
      "GeSe2/Si_x_fc1_fc_b:0.npy 512 GeSe2/Si/b_1_512.x\n",
      "GeSe2/Si_x_fc2_fc_b:0.npy 1024 GeSe2/Si/b_2_1024.x\n",
      "GeSe2/Si_x_fc3_fc_b:0.npy 512 GeSe2/Si/b_3_512.x\n",
      "GeSe2/Si_x_fc4_fc_b:0.npy 1 GeSe2/Si/b_4_1.x\n",
      "GeSe2/Si_y_fc1_fc_b:0.npy 512 GeSe2/Si/b_1_512.y\n",
      "GeSe2/Si_y_fc2_fc_b:0.npy 1024 GeSe2/Si/b_2_1024.y\n",
      "GeSe2/Si_y_fc3_fc_b:0.npy 512 GeSe2/Si/b_3_512.y\n",
      "GeSe2/Si_y_fc4_fc_b:0.npy 1 GeSe2/Si/b_4_1.y\n",
      "GeSe2/Si_z_fc1_fc_b:0.npy 512 GeSe2/Si/b_1_512.z\n",
      "GeSe2/Si_z_fc2_fc_b:0.npy 1024 GeSe2/Si/b_2_1024.z\n",
      "GeSe2/Si_z_fc3_fc_b:0.npy 512 GeSe2/Si/b_3_512.z\n",
      "GeSe2/Si_z_fc4_fc_b:0.npy 1 GeSe2/Si/b_4_1.z\n",
      "------\n",
      "GeSe2/C_x_fc1_fc_w:0.npy (310, 512) GeSe2/C/w_1_310_512.x\n",
      "GeSe2/C_x_fc2_fc_w:0.npy (512, 1024) GeSe2/C/w_2_512_1024.x\n",
      "GeSe2/C_x_fc3_fc_w:0.npy (1024, 512) GeSe2/C/w_3_1024_512.x\n",
      "GeSe2/C_x_fc4_fc_w:0.npy (512, 1) GeSe2/C/w_4_512_1.x\n",
      "GeSe2/C_y_fc1_fc_w:0.npy (310, 512) GeSe2/C/w_1_310_512.y\n",
      "GeSe2/C_y_fc2_fc_w:0.npy (512, 1024) GeSe2/C/w_2_512_1024.y\n",
      "GeSe2/C_y_fc3_fc_w:0.npy (1024, 512) GeSe2/C/w_3_1024_512.y\n",
      "GeSe2/C_y_fc4_fc_w:0.npy (512, 1) GeSe2/C/w_4_512_1.y\n",
      "GeSe2/C_z_fc1_fc_w:0.npy (310, 512) GeSe2/C/w_1_310_512.z\n",
      "GeSe2/C_z_fc2_fc_w:0.npy (512, 1024) GeSe2/C/w_2_512_1024.z\n",
      "GeSe2/C_z_fc3_fc_w:0.npy (1024, 512) GeSe2/C/w_3_1024_512.z\n",
      "GeSe2/C_z_fc4_fc_w:0.npy (512, 1) GeSe2/C/w_4_512_1.z\n",
      "------\n",
      "GeSe2/Si_x_fc1_fc_w:0.npy (310, 512) GeSe2/Si/w_1_310_512.x\n",
      "GeSe2/Si_x_fc2_fc_w:0.npy (512, 1024) GeSe2/Si/w_2_512_1024.x\n",
      "GeSe2/Si_x_fc3_fc_w:0.npy (1024, 512) GeSe2/Si/w_3_1024_512.x\n",
      "GeSe2/Si_x_fc4_fc_w:0.npy (512, 1) GeSe2/Si/w_4_512_1.x\n",
      "GeSe2/Si_y_fc1_fc_w:0.npy (310, 512) GeSe2/Si/w_1_310_512.y\n",
      "GeSe2/Si_y_fc2_fc_w:0.npy (512, 1024) GeSe2/Si/w_2_512_1024.y\n",
      "GeSe2/Si_y_fc3_fc_w:0.npy (1024, 512) GeSe2/Si/w_3_1024_512.y\n",
      "GeSe2/Si_y_fc4_fc_w:0.npy (512, 1) GeSe2/Si/w_4_512_1.y\n",
      "GeSe2/Si_z_fc1_fc_w:0.npy (310, 512) GeSe2/Si/w_1_310_512.z\n",
      "GeSe2/Si_z_fc2_fc_w:0.npy (512, 1024) GeSe2/Si/w_2_512_1024.z\n",
      "GeSe2/Si_z_fc3_fc_w:0.npy (1024, 512) GeSe2/Si/w_3_1024_512.z\n",
      "GeSe2/Si_z_fc4_fc_w:0.npy (512, 1) GeSe2/Si/w_4_512_1.z\n"
     ]
    }
   ],
   "source": [
    "import numpy as np\n",
    "import glob\n",
    "root_dir = 'GeSe2/'\n",
    "root_len = len(root_dir)\n",
    "bdata={}\n",
    "filenames = sorted(glob.glob(root_dir+'C*b:0.npy'))\n",
    "for f in filenames:\n",
    "    bdata[f] = np.load(f)\n",
    "    nlayer = f[6+root_len:7+root_len]\n",
    "    xyz = f[2+root_len:3+root_len]\n",
    "    output = root_dir+'C/b_'+nlayer+'_'+str(bdata[f].shape[0])+'.'+xyz\n",
    "    bdata[f].tofile(output)\n",
    "    print(f,bdata[f].shape[0], output)\n",
    "print('------')\n",
    "\n",
    "filenames = sorted(glob.glob(root_dir+'Si*b:0.npy'))\n",
    "for f in filenames:\n",
    "    bdata[f] = np.load(f)\n",
    "    nlayer = f[7+root_len:8+root_len]\n",
    "    xyz = f[3+root_len:4+root_len]\n",
    "    output = root_dir+'Si/b_'+nlayer+'_'+str(bdata[f].shape[0])+'.'+xyz\n",
    "    bdata[f].tofile(output)\n",
    "    print(f,bdata[f].shape[0], output)\n",
    "\n",
    "print('------')\n",
    "wdata={}\n",
    "filenames = sorted(glob.glob(root_dir+'C*w:0.npy'))\n",
    "for f in filenames:\n",
    "    wdata[f] = np.load(f)\n",
    "    data = wdata[f].reshape(wdata[f].shape, order='F')\n",
    "    nlayer = f[6+root_len:7+root_len]\n",
    "    xyz = f[2+root_len:3+root_len]\n",
    "    output = root_dir+'C/w_'+nlayer+'_'+str(wdata[f].shape[0])+'_'+str(wdata[f].shape[1])+'.'+xyz\n",
    "    data.tofile(output)\n",
    "    print(f,wdata[f].shape, output)\n",
    "    \n",
    "print('------')\n",
    "wdata={}\n",
    "filenames = sorted(glob.glob(root_dir+'Si*w:0.npy'))\n",
    "for f in filenames:\n",
    "    wdata[f] = np.load(f)\n",
    "    data = wdata[f].reshape(wdata[f].shape, order='F')\n",
    "    nlayer = f[7+root_len:8+root_len]\n",
    "    xyz = f[3+root_len:4+root_len]\n",
    "    output = root_dir+'Si/w_'+nlayer+'_'+str(wdata[f].shape[0])+'_'+str(wdata[f].shape[1])+'.'+xyz\n",
    "    data.tofile(output)\n",
    "    print(f,wdata[f].shape, output)"
   ]
  },
  {
   "cell_type": "code",
   "execution_count": 22,
   "metadata": {},
   "outputs": [
    {
     "name": "stdout",
     "output_type": "stream",
     "text": [
      "(24576, 930)\n"
     ]
    }
   ],
   "source": [
    "xx = np.load('./GeSe2/train_XX.npy')\n",
    "print(xx.shape)"
   ]
  },
  {
   "cell_type": "code",
   "execution_count": 23,
   "metadata": {},
   "outputs": [
    {
     "name": "stdout",
     "output_type": "stream",
     "text": [
      "\u001b[34mC\u001b[m\u001b[m                   C_y_fc4_fc_b:0.npy  Si_x_fc1_fc_w:0.npy Si_z_fc1_fc_b:0.npy\n",
      "C_x_fc1_fc_b:0.npy  C_y_fc4_fc_w:0.npy  Si_x_fc2_fc_b:0.npy Si_z_fc1_fc_w:0.npy\n",
      "C_x_fc1_fc_w:0.npy  C_z_fc1_fc_b:0.npy  Si_x_fc2_fc_w:0.npy Si_z_fc2_fc_b:0.npy\n",
      "C_x_fc2_fc_b:0.npy  C_z_fc1_fc_w:0.npy  Si_x_fc3_fc_b:0.npy Si_z_fc2_fc_w:0.npy\n",
      "C_x_fc2_fc_w:0.npy  C_z_fc2_fc_b:0.npy  Si_x_fc3_fc_w:0.npy Si_z_fc3_fc_b:0.npy\n",
      "C_x_fc3_fc_b:0.npy  C_z_fc2_fc_w:0.npy  Si_x_fc4_fc_b:0.npy Si_z_fc3_fc_w:0.npy\n",
      "C_x_fc3_fc_w:0.npy  C_z_fc3_fc_b:0.npy  Si_x_fc4_fc_w:0.npy Si_z_fc4_fc_b:0.npy\n",
      "C_x_fc4_fc_b:0.npy  C_z_fc3_fc_w:0.npy  Si_y_fc1_fc_b:0.npy Si_z_fc4_fc_w:0.npy\n",
      "C_x_fc4_fc_w:0.npy  C_z_fc4_fc_b:0.npy  Si_y_fc1_fc_w:0.npy input.xyz\n",
      "C_y_fc1_fc_b:0.npy  C_z_fc4_fc_w:0.npy  Si_y_fc2_fc_b:0.npy model_detain.txt\n",
      "C_y_fc1_fc_w:0.npy  \u001b[34mGe\u001b[m\u001b[m                  Si_y_fc2_fc_w:0.npy train_XX.npy\n",
      "C_y_fc2_fc_b:0.npy  GeSe2.xyz           Si_y_fc3_fc_b:0.npy train_YY.npy\n",
      "C_y_fc2_fc_w:0.npy  \u001b[34mSe\u001b[m\u001b[m                  Si_y_fc3_fc_w:0.npy train_atype.npy\n",
      "C_y_fc3_fc_b:0.npy  \u001b[34mSi\u001b[m\u001b[m                  Si_y_fc4_fc_b:0.npy train_pos.npy\n",
      "C_y_fc3_fc_w:0.npy  Si_x_fc1_fc_b:0.npy Si_y_fc4_fc_w:0.npy\n"
     ]
    }
   ],
   "source": [
    "!ls GeSe2"
   ]
  },
  {
   "cell_type": "code",
   "execution_count": null,
   "metadata": {},
   "outputs": [],
   "source": []
  }
 ],
 "metadata": {
  "kernelspec": {
   "display_name": "Python 3",
   "language": "python",
   "name": "python3"
  },
  "language_info": {
   "codemirror_mode": {
    "name": "ipython",
    "version": 3
   },
   "file_extension": ".py",
   "mimetype": "text/x-python",
   "name": "python",
   "nbconvert_exporter": "python",
   "pygments_lexer": "ipython3",
   "version": "3.6.8"
  }
 },
 "nbformat": 4,
 "nbformat_minor": 2
}
