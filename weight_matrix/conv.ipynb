{
 "cells": [
  {
   "cell_type": "code",
   "execution_count": 1,
   "metadata": {},
   "outputs": [
    {
     "name": "stdout",
     "output_type": "stream",
     "text": [
      "C_x_fc1_fc_b:0.npy  C_y_fc3_fc_w:0.npy  Si_x_fc2_fc_b:0.npy Si_y_fc4_fc_w:0.npy\r\n",
      "C_x_fc1_fc_w:0.npy  C_y_fc4_fc_b:0.npy  Si_x_fc2_fc_w:0.npy Si_z_fc1_fc_b:0.npy\r\n",
      "C_x_fc2_fc_b:0.npy  C_y_fc4_fc_w:0.npy  Si_x_fc3_fc_b:0.npy Si_z_fc1_fc_w:0.npy\r\n",
      "C_x_fc2_fc_w:0.npy  C_z_fc1_fc_b:0.npy  Si_x_fc3_fc_w:0.npy Si_z_fc2_fc_b:0.npy\r\n",
      "C_x_fc3_fc_b:0.npy  C_z_fc1_fc_w:0.npy  Si_x_fc4_fc_b:0.npy Si_z_fc2_fc_w:0.npy\r\n",
      "C_x_fc3_fc_w:0.npy  C_z_fc2_fc_b:0.npy  Si_x_fc4_fc_w:0.npy Si_z_fc3_fc_b:0.npy\r\n",
      "C_x_fc4_fc_b:0.npy  C_z_fc2_fc_w:0.npy  Si_y_fc1_fc_b:0.npy Si_z_fc3_fc_w:0.npy\r\n",
      "C_x_fc4_fc_w:0.npy  C_z_fc3_fc_b:0.npy  Si_y_fc1_fc_w:0.npy Si_z_fc4_fc_b:0.npy\r\n",
      "C_y_fc1_fc_b:0.npy  C_z_fc3_fc_w:0.npy  Si_y_fc2_fc_b:0.npy Si_z_fc4_fc_w:0.npy\r\n",
      "C_y_fc1_fc_w:0.npy  C_z_fc4_fc_b:0.npy  Si_y_fc2_fc_w:0.npy Untitled.ipynb\r\n",
      "C_y_fc2_fc_b:0.npy  C_z_fc4_fc_w:0.npy  Si_y_fc3_fc_b:0.npy model_detain.txt\r\n",
      "C_y_fc2_fc_w:0.npy  Si_x_fc1_fc_b:0.npy Si_y_fc3_fc_w:0.npy\r\n",
      "C_y_fc3_fc_b:0.npy  Si_x_fc1_fc_w:0.npy Si_y_fc4_fc_b:0.npy\r\n"
     ]
    }
   ],
   "source": [
    "!ls"
   ]
  },
  {
   "cell_type": "code",
   "execution_count": 41,
   "metadata": {},
   "outputs": [
    {
     "name": "stdout",
     "output_type": "stream",
     "text": [
      "./C_x_fc1_fc_b:0.npy 512 C/b_1_512.x\n",
      "./C_x_fc2_fc_b:0.npy 1024 C/b_2_1024.x\n",
      "./C_x_fc3_fc_b:0.npy 512 C/b_3_512.x\n",
      "./C_x_fc4_fc_b:0.npy 1 C/b_4_1.x\n",
      "./C_y_fc1_fc_b:0.npy 512 C/b_1_512.y\n",
      "./C_y_fc2_fc_b:0.npy 1024 C/b_2_1024.y\n",
      "./C_y_fc3_fc_b:0.npy 512 C/b_3_512.y\n",
      "./C_y_fc4_fc_b:0.npy 1 C/b_4_1.y\n",
      "./C_z_fc1_fc_b:0.npy 512 C/b_1_512.z\n",
      "./C_z_fc2_fc_b:0.npy 1024 C/b_2_1024.z\n",
      "./C_z_fc3_fc_b:0.npy 512 C/b_3_512.z\n",
      "./C_z_fc4_fc_b:0.npy 1 C/b_4_1.z\n",
      "------\n",
      "./Si_x_fc1_fc_b:0.npy 512 Si/b_1_512.x\n",
      "./Si_x_fc2_fc_b:0.npy 1024 Si/b_2_1024.x\n",
      "./Si_x_fc3_fc_b:0.npy 512 Si/b_3_512.x\n",
      "./Si_x_fc4_fc_b:0.npy 1 Si/b_4_1.x\n",
      "./Si_y_fc1_fc_b:0.npy 512 Si/b_1_512.y\n",
      "./Si_y_fc2_fc_b:0.npy 1024 Si/b_2_1024.y\n",
      "./Si_y_fc3_fc_b:0.npy 512 Si/b_3_512.y\n",
      "./Si_y_fc4_fc_b:0.npy 1 Si/b_4_1.y\n",
      "./Si_z_fc1_fc_b:0.npy 512 Si/b_1_512.z\n",
      "./Si_z_fc2_fc_b:0.npy 1024 Si/b_2_1024.z\n",
      "./Si_z_fc3_fc_b:0.npy 512 Si/b_3_512.z\n",
      "./Si_z_fc4_fc_b:0.npy 1 Si/b_4_1.z\n",
      "------\n",
      "./C_x_fc1_fc_w:0.npy (232, 512) C/w_1_232_512.x\n",
      "./C_x_fc2_fc_w:0.npy (512, 1024) C/w_2_512_1024.x\n",
      "./C_x_fc3_fc_w:0.npy (1024, 512) C/w_3_1024_512.x\n",
      "./C_x_fc4_fc_w:0.npy (512, 1) C/w_4_512_1.x\n",
      "./C_y_fc1_fc_w:0.npy (232, 512) C/w_1_232_512.y\n",
      "./C_y_fc2_fc_w:0.npy (512, 1024) C/w_2_512_1024.y\n",
      "./C_y_fc3_fc_w:0.npy (1024, 512) C/w_3_1024_512.y\n",
      "./C_y_fc4_fc_w:0.npy (512, 1) C/w_4_512_1.y\n",
      "./C_z_fc1_fc_w:0.npy (232, 512) C/w_1_232_512.z\n",
      "./C_z_fc2_fc_w:0.npy (512, 1024) C/w_2_512_1024.z\n",
      "./C_z_fc3_fc_w:0.npy (1024, 512) C/w_3_1024_512.z\n",
      "./C_z_fc4_fc_w:0.npy (512, 1) C/w_4_512_1.z\n",
      "------\n",
      "./Si_x_fc1_fc_w:0.npy (232, 512) Si/w_1_232_512.x\n",
      "./Si_x_fc2_fc_w:0.npy (512, 1024) Si/w_2_512_1024.x\n",
      "./Si_x_fc3_fc_w:0.npy (1024, 512) Si/w_3_1024_512.x\n",
      "./Si_x_fc4_fc_w:0.npy (512, 1) Si/w_4_512_1.x\n",
      "./Si_y_fc1_fc_w:0.npy (232, 512) Si/w_1_232_512.y\n",
      "./Si_y_fc2_fc_w:0.npy (512, 1024) Si/w_2_512_1024.y\n",
      "./Si_y_fc3_fc_w:0.npy (1024, 512) Si/w_3_1024_512.y\n",
      "./Si_y_fc4_fc_w:0.npy (512, 1) Si/w_4_512_1.y\n",
      "./Si_z_fc1_fc_w:0.npy (232, 512) Si/w_1_232_512.z\n",
      "./Si_z_fc2_fc_w:0.npy (512, 1024) Si/w_2_512_1024.z\n",
      "./Si_z_fc3_fc_w:0.npy (1024, 512) Si/w_3_1024_512.z\n",
      "./Si_z_fc4_fc_w:0.npy (512, 1) Si/w_4_512_1.z\n"
     ]
    }
   ],
   "source": [
    "import numpy as np\n",
    "import glob\n",
    "bdata={}\n",
    "filenames = sorted(glob.glob('./C*b:0.npy'))\n",
    "for f in filenames:\n",
    "    bdata[f] = np.load(f)\n",
    "    output = 'C/b_'+f[8:9]+'_'+str(bdata[f].shape[0])+'.'+f[4:5]\n",
    "    bdata[f].tofile('out')\n",
    "    print(f,bdata[f].shape[0], output)\n",
    "print('------')\n",
    "filenames = sorted(glob.glob('./Si*b:0.npy'))\n",
    "for f in filenames:\n",
    "    bdata[f] = np.load(f)\n",
    "    output = 'Si/b_'+f[9:10]+'_'+str(bdata[f].shape[0])+'.'+f[5:6]\n",
    "    print(f,bdata[f].shape[0], output)\n",
    "\n",
    "print('------')\n",
    "wdata={}\n",
    "filenames = sorted(glob.glob('./C*w:0.npy'))\n",
    "for f in filenames:\n",
    "    wdata[f] = np.load(f)\n",
    "    data = wdata[f].reshape(wdata[f].shape, order='F')\n",
    "    output = 'C/w_'+f[8:9]+'_'+str(wdata[f].shape[0])+'_'+str(wdata[f].shape[1])+'.'+f[4:5]\n",
    "    print(f,wdata[f].shape, output)\n",
    "    \n",
    "print('------')\n",
    "wdata={}\n",
    "filenames = sorted(glob.glob('./Si*w:0.npy'))\n",
    "for f in filenames:\n",
    "    wdata[f] = np.load(f)\n",
    "    data = wdata[f].reshape(wdata[f].shape, order='F')\n",
    "    output = 'Si/w_'+f[9:10]+'_'+str(wdata[f].shape[0])+'_'+str(wdata[f].shape[1])+'.'+f[5:6]\n",
    "    print(f,wdata[f].shape, output)"
   ]
  },
  {
   "cell_type": "code",
   "execution_count": null,
   "metadata": {},
   "outputs": [],
   "source": []
  }
 ],
 "metadata": {
  "kernelspec": {
   "display_name": "Python 3",
   "language": "python",
   "name": "python3"
  },
  "language_info": {
   "codemirror_mode": {
    "name": "ipython",
    "version": 3
   },
   "file_extension": ".py",
   "mimetype": "text/x-python",
   "name": "python",
   "nbconvert_exporter": "python",
   "pygments_lexer": "ipython3",
   "version": "3.6.8"
  }
 },
 "nbformat": 4,
 "nbformat_minor": 2
}
