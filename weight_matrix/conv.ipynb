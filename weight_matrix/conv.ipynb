{
 "cells": [
  {
   "cell_type": "code",
   "execution_count": 1,
   "metadata": {},
   "outputs": [
    {
     "name": "stdout",
     "output_type": "stream",
     "text": [
      "GeSe2/Ge_x_fc1_fc_b:0.npy 512 GeSe2/Ge/b_1_512.x\n",
      "GeSe2/Ge_x_fc2_fc_b:0.npy 1024 GeSe2/Ge/b_2_1024.x\n",
      "GeSe2/Ge_x_fc3_fc_b:0.npy 512 GeSe2/Ge/b_3_512.x\n",
      "GeSe2/Ge_x_fc4_fc_b:0.npy 1 GeSe2/Ge/b_4_1.x\n",
      "GeSe2/Ge_y_fc1_fc_b:0.npy 512 GeSe2/Ge/b_1_512.y\n",
      "GeSe2/Ge_y_fc2_fc_b:0.npy 1024 GeSe2/Ge/b_2_1024.y\n",
      "GeSe2/Ge_y_fc3_fc_b:0.npy 512 GeSe2/Ge/b_3_512.y\n",
      "GeSe2/Ge_y_fc4_fc_b:0.npy 1 GeSe2/Ge/b_4_1.y\n",
      "GeSe2/Ge_z_fc1_fc_b:0.npy 512 GeSe2/Ge/b_1_512.z\n",
      "GeSe2/Ge_z_fc2_fc_b:0.npy 1024 GeSe2/Ge/b_2_1024.z\n",
      "GeSe2/Ge_z_fc3_fc_b:0.npy 512 GeSe2/Ge/b_3_512.z\n",
      "GeSe2/Ge_z_fc4_fc_b:0.npy 1 GeSe2/Ge/b_4_1.z\n",
      "------\n",
      "GeSe2/Se_x_fc1_fc_b:0.npy 512 GeSe2/Se/b_1_512.x\n",
      "GeSe2/Se_x_fc2_fc_b:0.npy 1024 GeSe2/Se/b_2_1024.x\n",
      "GeSe2/Se_x_fc3_fc_b:0.npy 512 GeSe2/Se/b_3_512.x\n",
      "GeSe2/Se_x_fc4_fc_b:0.npy 1 GeSe2/Se/b_4_1.x\n",
      "GeSe2/Se_y_fc1_fc_b:0.npy 512 GeSe2/Se/b_1_512.y\n",
      "GeSe2/Se_y_fc2_fc_b:0.npy 1024 GeSe2/Se/b_2_1024.y\n",
      "GeSe2/Se_y_fc3_fc_b:0.npy 512 GeSe2/Se/b_3_512.y\n",
      "GeSe2/Se_y_fc4_fc_b:0.npy 1 GeSe2/Se/b_4_1.y\n",
      "GeSe2/Se_z_fc1_fc_b:0.npy 512 GeSe2/Se/b_1_512.z\n",
      "GeSe2/Se_z_fc2_fc_b:0.npy 1024 GeSe2/Se/b_2_1024.z\n",
      "GeSe2/Se_z_fc3_fc_b:0.npy 512 GeSe2/Se/b_3_512.z\n",
      "GeSe2/Se_z_fc4_fc_b:0.npy 1 GeSe2/Se/b_4_1.z\n",
      "------\n",
      "GeSe2/Ge_x_fc1_fc_w:0.npy (310, 512) GeSe2/Ge/w_1_310_512.x\n",
      "GeSe2/Ge_x_fc2_fc_w:0.npy (512, 1024) GeSe2/Ge/w_2_512_1024.x\n",
      "GeSe2/Ge_x_fc3_fc_w:0.npy (1024, 512) GeSe2/Ge/w_3_1024_512.x\n",
      "GeSe2/Ge_x_fc4_fc_w:0.npy (512, 1) GeSe2/Ge/w_4_512_1.x\n",
      "GeSe2/Ge_y_fc1_fc_w:0.npy (310, 512) GeSe2/Ge/w_1_310_512.y\n",
      "GeSe2/Ge_y_fc2_fc_w:0.npy (512, 1024) GeSe2/Ge/w_2_512_1024.y\n",
      "GeSe2/Ge_y_fc3_fc_w:0.npy (1024, 512) GeSe2/Ge/w_3_1024_512.y\n",
      "GeSe2/Ge_y_fc4_fc_w:0.npy (512, 1) GeSe2/Ge/w_4_512_1.y\n",
      "GeSe2/Ge_z_fc1_fc_w:0.npy (310, 512) GeSe2/Ge/w_1_310_512.z\n",
      "GeSe2/Ge_z_fc2_fc_w:0.npy (512, 1024) GeSe2/Ge/w_2_512_1024.z\n",
      "GeSe2/Ge_z_fc3_fc_w:0.npy (1024, 512) GeSe2/Ge/w_3_1024_512.z\n",
      "GeSe2/Ge_z_fc4_fc_w:0.npy (512, 1) GeSe2/Ge/w_4_512_1.z\n",
      "------\n",
      "GeSe2/Se_x_fc1_fc_w:0.npy (310, 512) GeSe2/Se/w_1_310_512.x\n",
      "GeSe2/Se_x_fc2_fc_w:0.npy (512, 1024) GeSe2/Se/w_2_512_1024.x\n",
      "GeSe2/Se_x_fc3_fc_w:0.npy (1024, 512) GeSe2/Se/w_3_1024_512.x\n",
      "GeSe2/Se_x_fc4_fc_w:0.npy (512, 1) GeSe2/Se/w_4_512_1.x\n",
      "GeSe2/Se_y_fc1_fc_w:0.npy (310, 512) GeSe2/Se/w_1_310_512.y\n",
      "GeSe2/Se_y_fc2_fc_w:0.npy (512, 1024) GeSe2/Se/w_2_512_1024.y\n",
      "GeSe2/Se_y_fc3_fc_w:0.npy (1024, 512) GeSe2/Se/w_3_1024_512.y\n",
      "GeSe2/Se_y_fc4_fc_w:0.npy (512, 1) GeSe2/Se/w_4_512_1.y\n",
      "GeSe2/Se_z_fc1_fc_w:0.npy (310, 512) GeSe2/Se/w_1_310_512.z\n",
      "GeSe2/Se_z_fc2_fc_w:0.npy (512, 1024) GeSe2/Se/w_2_512_1024.z\n",
      "GeSe2/Se_z_fc3_fc_w:0.npy (1024, 512) GeSe2/Se/w_3_1024_512.z\n",
      "GeSe2/Se_z_fc4_fc_w:0.npy (512, 1) GeSe2/Se/w_4_512_1.z\n"
     ]
    }
   ],
   "source": [
    "import numpy as np\n",
    "import glob\n",
    "root_dir = 'GeSe2/'\n",
    "root_len = len(root_dir)\n",
    "bdata={}\n",
    "filenames = sorted(glob.glob(root_dir+'Ge*b:0.npy'))\n",
    "for f in filenames:\n",
    "    bdata[f] = np.load(f)\n",
    "    nlayer = f[7+root_len:8+root_len]\n",
    "    xyz = f[3+root_len:4+root_len]\n",
    "    output = root_dir+'Ge/b_'+nlayer+'_'+str(bdata[f].shape[0])+'.'+xyz\n",
    "    #bdata[f].tofile(output)\n",
    "    np.savetxt(output, bdata[f])\n",
    "    print(f,bdata[f].shape[0], output)\n",
    "print('------')\n",
    "\n",
    "filenames = sorted(glob.glob(root_dir+'Se*b:0.npy'))\n",
    "for f in filenames:\n",
    "    bdata[f] = np.load(f)\n",
    "    nlayer = f[7+root_len:8+root_len]\n",
    "    xyz = f[3+root_len:4+root_len]\n",
    "    output = root_dir+'Se/b_'+nlayer+'_'+str(bdata[f].shape[0])+'.'+xyz\n",
    "    #bdata[f].tofile(output)\n",
    "    np.savetxt(output, bdata[f])\n",
    "    print(f,bdata[f].shape[0], output)\n",
    "\n",
    "print('------')\n",
    "wdata={}\n",
    "filenames = sorted(glob.glob(root_dir+'Ge*w:0.npy'))\n",
    "for f in filenames:\n",
    "    wdata[f] = np.load(f)\n",
    "    data = wdata[f].reshape(wdata[f].shape, order='F')\n",
    "    nlayer = f[7+root_len:8+root_len]\n",
    "    xyz = f[3+root_len:4+root_len]\n",
    "    output = root_dir+'Ge/w_'+nlayer+'_'+str(wdata[f].shape[0])+'_'+str(wdata[f].shape[1])+'.'+xyz\n",
    "    #data.tofile(output)\n",
    "    np.savetxt(output, data)\n",
    "    print(f,wdata[f].shape, output)\n",
    "    \n",
    "print('------')\n",
    "wdata={}\n",
    "filenames = sorted(glob.glob(root_dir+'Se*w:0.npy'))\n",
    "for f in filenames:\n",
    "    wdata[f] = np.load(f)\n",
    "    data = wdata[f].reshape(wdata[f].shape, order='F')\n",
    "    nlayer = f[7+root_len:8+root_len]\n",
    "    xyz = f[3+root_len:4+root_len]\n",
    "    output = root_dir+'Se/w_'+nlayer+'_'+str(wdata[f].shape[0])+'_'+str(wdata[f].shape[1])+'.'+xyz\n",
    "    #data.tofile(output)\n",
    "    np.savetxt(output, data)\n",
    "    print(f,wdata[f].shape, output)"
   ]
  },
  {
   "cell_type": "code",
   "execution_count": 4,
   "metadata": {},
   "outputs": [
    {
     "name": "stdout",
     "output_type": "stream",
     "text": [
      "(24576, 930)\n"
     ]
    },
    {
     "data": {
      "text/plain": [
       "array([[-1.93383768e-01, -3.48727889e-02, -1.29212753e-03, ...,\n",
       "         2.46712789e-02,  3.79405431e-02,  3.39539908e-02],\n",
       "       [ 1.37420997e-01,  5.42810783e-02,  5.78729855e-03, ...,\n",
       "        -4.60310817e-01, -1.96334738e-02,  3.81961823e-01],\n",
       "       [ 1.06616564e-01,  3.64733860e-02,  5.14934678e-03, ...,\n",
       "        -1.29894793e-01,  2.10866220e-02,  1.31827325e-01],\n",
       "       ...,\n",
       "       [ 3.29793245e-01,  2.26275221e-01,  1.01785660e-01, ...,\n",
       "        -1.10400856e-01,  2.04391517e-02,  1.28034517e-01],\n",
       "       [-2.01485276e-01, -4.38370183e-02, -5.26258629e-03, ...,\n",
       "         3.69287506e-02, -4.68646660e-02, -9.76961777e-02],\n",
       "       [ 5.71496844e-01,  2.96097189e-01,  8.79302397e-02, ...,\n",
       "        -2.88208365e-04, -1.39046134e-03, -2.90617160e-03]], dtype=float32)"
      ]
     },
     "execution_count": 4,
     "metadata": {},
     "output_type": "execute_result"
    }
   ],
   "source": [
    "xx = np.load('./GeSe2/train_XX.npy')\n",
    "print(xx.shape)\n",
    "xx"
   ]
  },
  {
   "cell_type": "code",
   "execution_count": 23,
   "metadata": {},
   "outputs": [
    {
     "name": "stdout",
     "output_type": "stream",
     "text": [
      "\u001b[34mC\u001b[m\u001b[m                   C_y_fc4_fc_b:0.npy  Si_x_fc1_fc_w:0.npy Si_z_fc1_fc_b:0.npy\n",
      "C_x_fc1_fc_b:0.npy  C_y_fc4_fc_w:0.npy  Si_x_fc2_fc_b:0.npy Si_z_fc1_fc_w:0.npy\n",
      "C_x_fc1_fc_w:0.npy  C_z_fc1_fc_b:0.npy  Si_x_fc2_fc_w:0.npy Si_z_fc2_fc_b:0.npy\n",
      "C_x_fc2_fc_b:0.npy  C_z_fc1_fc_w:0.npy  Si_x_fc3_fc_b:0.npy Si_z_fc2_fc_w:0.npy\n",
      "C_x_fc2_fc_w:0.npy  C_z_fc2_fc_b:0.npy  Si_x_fc3_fc_w:0.npy Si_z_fc3_fc_b:0.npy\n",
      "C_x_fc3_fc_b:0.npy  C_z_fc2_fc_w:0.npy  Si_x_fc4_fc_b:0.npy Si_z_fc3_fc_w:0.npy\n",
      "C_x_fc3_fc_w:0.npy  C_z_fc3_fc_b:0.npy  Si_x_fc4_fc_w:0.npy Si_z_fc4_fc_b:0.npy\n",
      "C_x_fc4_fc_b:0.npy  C_z_fc3_fc_w:0.npy  Si_y_fc1_fc_b:0.npy Si_z_fc4_fc_w:0.npy\n",
      "C_x_fc4_fc_w:0.npy  C_z_fc4_fc_b:0.npy  Si_y_fc1_fc_w:0.npy input.xyz\n",
      "C_y_fc1_fc_b:0.npy  C_z_fc4_fc_w:0.npy  Si_y_fc2_fc_b:0.npy model_detain.txt\n",
      "C_y_fc1_fc_w:0.npy  \u001b[34mGe\u001b[m\u001b[m                  Si_y_fc2_fc_w:0.npy train_XX.npy\n",
      "C_y_fc2_fc_b:0.npy  GeSe2.xyz           Si_y_fc3_fc_b:0.npy train_YY.npy\n",
      "C_y_fc2_fc_w:0.npy  \u001b[34mSe\u001b[m\u001b[m                  Si_y_fc3_fc_w:0.npy train_atype.npy\n",
      "C_y_fc3_fc_b:0.npy  \u001b[34mSi\u001b[m\u001b[m                  Si_y_fc4_fc_b:0.npy train_pos.npy\n",
      "C_y_fc3_fc_w:0.npy  Si_x_fc1_fc_b:0.npy Si_y_fc4_fc_w:0.npy\n"
     ]
    }
   ],
   "source": [
    "!ls GeSe2"
   ]
  },
  {
   "cell_type": "code",
   "execution_count": null,
   "metadata": {},
   "outputs": [],
   "source": []
  }
 ],
 "metadata": {
  "kernelspec": {
   "display_name": "Python 3",
   "language": "python",
   "name": "python3"
  },
  "language_info": {
   "codemirror_mode": {
    "name": "ipython",
    "version": 3
   },
   "file_extension": ".py",
   "mimetype": "text/x-python",
   "name": "python",
   "nbconvert_exporter": "python",
   "pygments_lexer": "ipython3",
   "version": "3.6.8"
  }
 },
 "nbformat": 4,
 "nbformat_minor": 2
}
